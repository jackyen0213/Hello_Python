{
 "cells": [
  {
   "cell_type": "code",
   "execution_count": 9,
   "metadata": {},
   "outputs": [
    {
     "name": "stdout",
     "output_type": "stream",
     "text": [
      "Connecting to the PostgreSQL database, DB name = \"analysis\"...\n",
      "Connection successful\n",
      "   first_name last_name               school   hire_date salary\n",
      "id                                                             \n",
      "1       Janet     Smith    F.D. Roosevelt HS  2011-10-30  36200\n",
      "2         Lee  Reynolds    F.D. Roosevelt HS  1993-05-22  65000\n",
      "3      Samuel      Cole  Myers Middle School  2005-08-01  43500\n",
      "4    Samantha      Bush  Myers Middle School  2011-10-30  36200\n",
      "5       Betty      Diaz  Myers Middle School  2005-08-30  43500\n",
      "6    Kathleen     Roush    F.D. Roosevelt HS  2010-10-22  38500\n"
     ]
    }
   ],
   "source": [
    "import sys\n",
    "import psycopg2 as pps\n",
    "import pandas as pd\n",
    "\n",
    "# postgresql to pandas dataframe\n",
    "#   conn: psycopg2 conn\n",
    "#   select_query: string, which is SQL command\n",
    "#   column_names: list of string, column names\n",
    "def postgresql_to_dataframe(conn, select_query, column_names):\n",
    "    \"\"\"\n",
    "    Tranform a SELECT query into a pandas dataframe\n",
    "    \"\"\"\n",
    "    cursor = conn.cursor()\n",
    "    try:\n",
    "        cursor.execute(select_query)\n",
    "        #conn.commit() # no need to commit assume the select_query command is not updating DB\n",
    "    except (Exception, pps.DatabaseError) as error:\n",
    "        print(\"Error: %s\" % error)\n",
    "        cursor.close()\n",
    "        return 1\n",
    "    \n",
    "    # result from cursor: list of tupples\n",
    "    tupples = cursor.fetchall()\n",
    "    cursor.close()\n",
    "    \n",
    "    # turn it into a pandas dataframe\n",
    "    df = pd.DataFrame(tupples, columns=column_names)\n",
    "    return df\n",
    "\n",
    "#\n",
    "# Main flow\n",
    "#\n",
    "\n",
    "# connect to postgresql\n",
    "postgre_param_dic = {\n",
    "    \"host\"      : \"localhost\",\n",
    "    \"database\"  : \"analysis\",\n",
    "    \"user\"      : \"postgres\",\n",
    "    \"password\"  : \"jackyen0213\"\n",
    "}\n",
    "\n",
    "#conn = psycopg2.connect(database=\"analysis\", user=\"postgres\", password=\"jackyen0213\", host=\"localhost\", port=\"5432\")\n",
    "conn = None\n",
    "try:\n",
    "    # connect to the PostgreSQL server\n",
    "    print('Connecting to the PostgreSQL database, DB name = \"analysis\"...')\n",
    "    conn = pps.connect(**postgre_param_dic)\n",
    "except (Exception, pps.DatabaseError) as error:\n",
    "    print(error)\n",
    "    sys.exit(1) \n",
    "print(\"Connection successful\")\n",
    "\n",
    "# postgresql to dataframe\n",
    "column_names = ['id', 'first_name', 'last_name', 'school', 'hire_date', 'salary']\n",
    "command = 'SELECT * FROM teachers;'\n",
    "df = postgresql_to_dataframe(conn, select_query=command, column_names=column_names)\n",
    "df.set_index(['id'], inplace=True)\n",
    "print(df)\n",
    "\n",
    "# close the connection\n",
    "conn.close()\n"
   ]
  },
  {
   "cell_type": "code",
   "execution_count": null,
   "metadata": {},
   "outputs": [],
   "source": []
  }
 ],
 "metadata": {
  "kernelspec": {
   "display_name": "Python 3",
   "language": "python",
   "name": "python3"
  },
  "language_info": {
   "codemirror_mode": {
    "name": "ipython",
    "version": 3
   },
   "file_extension": ".py",
   "mimetype": "text/x-python",
   "name": "python",
   "nbconvert_exporter": "python",
   "pygments_lexer": "ipython3",
   "version": "3.7.4"
  }
 },
 "nbformat": 4,
 "nbformat_minor": 2
}
